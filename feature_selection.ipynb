{
 "cells": [
  {
   "cell_type": "code",
   "execution_count": 1,
   "metadata": {},
   "outputs": [],
   "source": [
    "import pandas as pd\n",
    "import numpy as np\n",
    "import matplotlib.pyplot as plt\n",
    "import seaborn as sns\n",
    "from sklearn.decomposition import TruncatedSVD\n",
    "from sklearn.preprocessing import OneHotEncoder,MinMaxScaler\n",
    "from sklearn import manifold,datasets, linear_model,gaussian_process,svm,metrics,manifold,preprocessing\n",
    "from sklearn.model_selection import train_test_split,GridSearchCV, KFold, cross_validate\n",
    "from sklearn.metrics import make_scorer, mean_squared_error\n",
    "from scipy.stats import pearsonr\n",
    "import warnings \n",
    "warnings.filterwarnings('ignore')\n",
    "import cv2\n",
    "import math \n",
    "plt.style.use('seaborn')\n",
    "\n",
    "import scipy.io as sio\n",
    "\n",
    "import gc\n",
    "\n",
    "pd.options.display.max_rows = 1000\n",
    "pd.set_option('display.max_columns', None)\n",
    "\n",
    "%matplotlib inline\n",
    "%config InlineBackend.figure_format = 'svg'"
   ]
  },
  {
   "cell_type": "markdown",
   "metadata": {},
   "source": [
    "# 1. 通过ridge回归效果来决定各种特征的处理方式"
   ]
  },
  {
   "cell_type": "code",
   "execution_count": 2,
   "metadata": {},
   "outputs": [],
   "source": [
    "def R_value(y_test, y_pred):\n",
    "    return pearsonr(y_test, y_pred)\n",
    "\n",
    "def mean_squared_error(y_test, y_pred):\n",
    "    return mean_squared_error(y_test, y_pred)\n",
    "\n",
    "\n",
    "def ridge_evaluator(X,y):\n",
    "    scoring_new = {'mse': 'neg_root_mean_squared_error','R_value':  'r2'}\n",
    "\n",
    "    alpha_can = np.logspace(-3, 3, 10)\n",
    "    # 原始特征\n",
    "    kfolds = KFold(n_splits=5, shuffle=True)\n",
    "    ridge = linear_model.Ridge()\n",
    "    ridge_model1 = GridSearchCV(ridge, param_grid={'alpha': alpha_can}, cv=5)\n",
    "    score1 = cross_validate(ridge_model1, X, y, scoring=scoring_new, cv=kfolds)\n",
    "    return score1"
   ]
  },
  {
   "cell_type": "code",
   "execution_count": 3,
   "metadata": {},
   "outputs": [],
   "source": [
    "data = sio.loadmat('./datasets/candidate_data.mat')\n",
    "for key in ['X_baseline', 'X_aug_median', 'X_aug_mean', 'X_onehot', 'X_cat_dim1', 'X_cat_dim2']:\n",
    "    min_max_scaler = MinMaxScaler()\n",
    "    data[key] = min_max_scaler.fit_transform(data[key])"
   ]
  },
  {
   "cell_type": "code",
   "execution_count": 7,
   "metadata": {},
   "outputs": [
    {
     "name": "stdout",
     "output_type": "stream",
     "text": [
      "Baseline performance: mse:126.41598241775655, R_value:0.2861158599634314\n"
     ]
    }
   ],
   "source": [
    "# 测试baseline特征性能\n",
    "score = ridge_evaluator(data['X_baseline'],data['Y'][0,:])\n",
    "print(\"Baseline performance: mse:\"+str(-score['test_mse'].mean())+\", R_value:\"+str(score['test_R_value'].mean()))"
   ]
  },
  {
   "cell_type": "code",
   "execution_count": 6,
   "metadata": {},
   "outputs": [
    {
     "name": "stdout",
     "output_type": "stream",
     "text": [
      "Mean performance: mse:123.5037721739481, R_value:0.3247394008566504\n",
      "Median performance: mse:123.6676953954631, R_value:0.3138993196141975\n"
     ]
    }
   ],
   "source": [
    "# 挑选均值填充和中值填充的特征\n",
    "## 均值\n",
    "score = ridge_evaluator(np.concatenate([data['X_baseline'],data['X_aug_mean']],axis = 1),data['Y'][0,:])\n",
    "print(\"Mean performance: mse:\"+str(-score['test_mse'].mean())+\", R_value:\"+str(score['test_R_value'].mean()))\n",
    "\n",
    "## 中值\n",
    "score = ridge_evaluator(np.concatenate([data['X_baseline'],data['X_aug_median']],axis = 1),data['Y'][0,:])\n",
    "print(\"Median performance: mse:\"+str(-score['test_mse'].mean())+\", R_value:\"+str(score['test_R_value'].mean()))"
   ]
  },
  {
   "cell_type": "code",
   "execution_count": 7,
   "metadata": {},
   "outputs": [
    {
     "name": "stdout",
     "output_type": "stream",
     "text": [
      "Onehot performance: mse:78.59966266981655, R_value:0.7177073841882633\n",
      "30 dim performance: mse:108.864413457866, R_value:0.47324294313253185\n",
      "50 dim performance: mse:100.75573842384455, R_value:0.5483374514459746\n"
     ]
    }
   ],
   "source": [
    "# 挑选one-hot特征和降维后的特征\n",
    "## onehot\n",
    "score = ridge_evaluator(np.concatenate([data['X_baseline'],data['X_aug_median'],data['X_onehot']],axis = 1),data['Y'][0,:])\n",
    "print(\"Onehot performance: mse:\"+str(-score['test_mse'].mean())+\", R_value:\"+str(score['test_R_value'].mean()))\n",
    "## 降到30维\n",
    "score = ridge_evaluator(np.concatenate([data['X_baseline'],data['X_aug_median'],data['X_cat_dim1']],axis = 1),data['Y'][0,:])\n",
    "print(\"30 dim performance: mse:\"+str(-score['test_mse'].mean())+\", R_value:\"+str(score['test_R_value'].mean()))\n",
    "## 降到50维\n",
    "score = ridge_evaluator(np.concatenate([data['X_baseline'],data['X_aug_median'],data['X_cat_dim2']],axis = 1),data['Y'][0,:])\n",
    "print(\"50 dim performance: mse:\"+str(-score['test_mse'].mean())+\", R_value:\"+str(score['test_R_value'].mean()))"
   ]
  },
  {
   "cell_type": "code",
   "execution_count": 10,
   "metadata": {},
   "outputs": [],
   "source": [
    "# 保存最后的特征\n",
    "data = sio.loadmat('./datasets/candidate_data.mat')\n",
    "X = np.concatenate([data['X_baseline'],data['X_aug_median'],data['X_onehot']],axis = 1)\n",
    "Y = data['Y'][0,:]\n",
    "\n",
    "sio.savemat('ori_data.mat',{'X':X,'Y':Y})"
   ]
  }
 ],
 "metadata": {
  "kernelspec": {
   "display_name": "Python 3.8.8 ('py38')",
   "language": "python",
   "name": "python3"
  },
  "language_info": {
   "codemirror_mode": {
    "name": "ipython",
    "version": 3
   },
   "file_extension": ".py",
   "mimetype": "text/x-python",
   "name": "python",
   "nbconvert_exporter": "python",
   "pygments_lexer": "ipython3",
   "version": "3.8.8"
  },
  "orig_nbformat": 4,
  "vscode": {
   "interpreter": {
    "hash": "4d6c15edccb966d2bb52e4527dc0611a26206d084fadc4df5e610d719652857f"
   }
  }
 },
 "nbformat": 4,
 "nbformat_minor": 2
}
