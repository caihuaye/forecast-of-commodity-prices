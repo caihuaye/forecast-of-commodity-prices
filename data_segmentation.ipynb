{
 "cells": [
  {
   "cell_type": "code",
   "execution_count": 1,
   "metadata": {},
   "outputs": [],
   "source": [
    "from sklearn.model_selection import KFold\n",
    "import scipy.io as sio"
   ]
  },
  {
   "cell_type": "markdown",
   "metadata": {},
   "source": [
    "## 1. 导入数据，并生成k折交叉验证的训练，测试集"
   ]
  },
  {
   "cell_type": "code",
   "execution_count": 8,
   "metadata": {},
   "outputs": [],
   "source": [
    "data = sio.loadmat('./datasets/data_normalized.mat')\n",
    "\n",
    "iter_time = 10   # 随机运行10次，多次随机运行的目的是规避划分的随机性\n",
    "\n",
    "kfold_num = 5 # 每一次随机运行，都会进行5折交叉验证\n",
    "\n",
    "total_train_idxes = [] # 保存训练集数据索引\n",
    "\n",
    "total_test_idxes = [] # 保存测试集的数据索引\n",
    "\n",
    "for iters in range(iter_time):\n",
    "    train_idxes = []\n",
    "    test_idxes = []\n",
    "    kf = KFold(n_splits = kfold_num,shuffle = True)\n",
    "    for train_idx,test_idx in kf.split(data['X']):\n",
    "        train_idxes.append(train_idx)\n",
    "        test_idxes.append(test_idx)\n",
    "    total_train_idxes.append(train_idxes)\n",
    "    total_test_idxes.append(test_idxes)\n",
    "\n",
    "sio.savemat('./datasets/index.mat',{'total_train_idxes':total_train_idxes,'total_test_idxes':total_test_idxes})"
   ]
  },
  {
   "cell_type": "code",
   "execution_count": 9,
   "metadata": {},
   "outputs": [
    {
     "data": {
      "text/plain": [
       "array([[   4,    5,   18, ..., 7488, 7489, 7492]])"
      ]
     },
     "execution_count": 9,
     "metadata": {},
     "output_type": "execute_result"
    }
   ],
   "source": [
    "# test\n",
    "data = sio.loadmat('./datasets/index.mat')\n",
    "data['total_test_idxes'][0][0]"
   ]
  },
  {
   "cell_type": "code",
   "execution_count": 10,
   "metadata": {},
   "outputs": [
    {
     "data": {
      "text/plain": [
       "(0.9999999999999998, 1.3415758552508151e-08)"
      ]
     },
     "execution_count": 10,
     "metadata": {},
     "output_type": "execute_result"
    }
   ],
   "source": [
    "from scipy.stats import pearsonr\n",
    "\n",
    "pearsonr([1,2,3],[0,1,2])"
   ]
  }
 ],
 "metadata": {
  "kernelspec": {
   "display_name": "Python 3.8.8 ('py38')",
   "language": "python",
   "name": "python3"
  },
  "language_info": {
   "codemirror_mode": {
    "name": "ipython",
    "version": 3
   },
   "file_extension": ".py",
   "mimetype": "text/x-python",
   "name": "python",
   "nbconvert_exporter": "python",
   "pygments_lexer": "ipython3",
   "version": "3.8.8"
  },
  "orig_nbformat": 4,
  "vscode": {
   "interpreter": {
    "hash": "4d6c15edccb966d2bb52e4527dc0611a26206d084fadc4df5e610d719652857f"
   }
  }
 },
 "nbformat": 4,
 "nbformat_minor": 2
}
