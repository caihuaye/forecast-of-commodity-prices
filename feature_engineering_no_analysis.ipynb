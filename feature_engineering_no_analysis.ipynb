{
 "cells": [
  {
   "cell_type": "code",
   "execution_count": 13,
   "metadata": {},
   "outputs": [],
   "source": [
    "import pandas as pd\n",
    "import numpy as np\n",
    "import matplotlib.pyplot as plt\n",
    "import seaborn as sns\n",
    "from sklearn.decomposition import TruncatedSVD\n",
    "from sklearn.preprocessing import OneHotEncoder,MinMaxScaler\n",
    "from sklearn import manifold,datasets, linear_model,gaussian_process,svm,metrics,manifold,preprocessing\n",
    "from sklearn.model_selection import train_test_split,GridSearchCV, KFold, cross_validate\n",
    "from sklearn.metrics import make_scorer\n",
    "import warnings \n",
    "warnings.filterwarnings('ignore')\n",
    "import cv2\n",
    "import math \n",
    "plt.style.use('seaborn')\n",
    "\n",
    "import scipy.io as sio\n",
    "\n",
    "import gc\n",
    "\n",
    "pd.options.display.max_rows = 1000\n",
    "pd.set_option('display.max_columns', None)\n",
    "\n",
    "%matplotlib inline\n",
    "%config InlineBackend.figure_format = 'svg'"
   ]
  },
  {
   "cell_type": "markdown",
   "metadata": {},
   "source": [
    "### 1. 数据清洗"
   ]
  },
  {
   "cell_type": "code",
   "execution_count": 14,
   "metadata": {},
   "outputs": [],
   "source": [
    "# 计算每个变量的缺失率\n",
    "def missing_cal(df):\n",
    "    missing_series = df.isnull().sum()/df.shape[0]\n",
    "    missing_df = pd.DataFrame(missing_series).reset_index()\n",
    "    missing_df = missing_df.rename(columns={'index':'col',\n",
    "                                            0:'missing_pct'})\n",
    "    missing_df = missing_df.sort_values('missing_pct',ascending=False).reset_index(drop=True)\n",
    "    return missing_df\n",
    "\n",
    "# 缺失值剔除（单个样本）\n",
    "def delete_missing_sample(df,threshold = 5):\n",
    "    df2 = df.copy()\n",
    "    missing_series =  df.isnull().sum(axis = 1)\n",
    "    missing_list = list(missing_series)\n",
    "    missing_index_list = []\n",
    "    for i,j in enumerate(missing_list):\n",
    "        if j>=threshold:\n",
    "            missing_index_list.append(i)\n",
    "    df2 = df2[~(df2.index.isin(missing_index_list))]\n",
    "    print('已删除缺失变量个数在{}以上的用户{}个'.format(threshold,len(missing_index_list)))\n",
    "    return df2\n",
    "\n",
    "# 缺失值填充\n",
    "def fill_missing_value(df,col_list):\n",
    "    df2 = df.copy()\n",
    "    for col in col_list:\n",
    "        if df[col].dtypes=='object':\n",
    "             df2[col] = df2[col].fillna('unknown')\n",
    "        else:\n",
    "            df2[col+'_meadian'] = df2[col].fillna(df2[col].median())    #中位数填充\n",
    "            df2[col+'_mean'] = df2[col].fillna(df2[col].mean()) #均值填充\n",
    "            df2 = df2.drop([col],axis = 1)\n",
    "    return df2\n",
    "\n",
    "# 去除常量值\n",
    "def const_delete(df,col_list,threshold=0.01):\n",
    "    df2 = df.copy()\n",
    "    const_col = []\n",
    "    rescol = []\n",
    "    for col in col_list:\n",
    "        const_pct = df2[col].value_counts().iloc[0]/df2[df2[col].notnull()].shape[0]\n",
    "        if const_pct>=threshold:\n",
    "            const_col.append(col)\n",
    "            rescol.append({col:const_pct})\n",
    "    df2 = df2.drop(const_col,axis=1)\n",
    "    print('常变量/同值化处理的变量个数为{}'.format(len(const_col)))\n",
    "    print('分别为{}'.format(rescol))\n",
    "    return df2"
   ]
  },
  {
   "cell_type": "code",
   "execution_count": 15,
   "metadata": {},
   "outputs": [
    {
     "name": "stdout",
     "output_type": "stream",
     "text": [
      "(7500, 11)\n",
      "已删除缺失变量个数在4以上的用户7个\n",
      "常变量/同值化处理的变量个数为1\n",
      "分别为[{'country': 1.0}]\n"
     ]
    }
   ],
   "source": [
    "wine_data = pd.read_csv('./datasets/商品价格预测.csv').reset_index(drop = True)\n",
    "print(wine_data.shape)\n",
    "wine_data = wine_data.replace('N.V.', np.nan).replace('NA',np.nan)\n",
    "wine_data['year'] = wine_data['year'].astype('float')\n",
    "\n",
    "# 删除缺失过于严重的样本\n",
    "wine_data=delete_missing_sample(wine_data,4)\n",
    "wine_data=fill_missing_value(wine_data,missing_cal(wine_data).col[0:4].values)\n",
    "\n",
    "# 常量值处理\n",
    "wine_data=const_delete(wine_data,wine_data.columns.values,1)"
   ]
  },
  {
   "cell_type": "markdown",
   "metadata": {},
   "source": [
    "### 2. 特征转换与选择"
   ]
  },
  {
   "cell_type": "code",
   "execution_count": 16,
   "metadata": {},
   "outputs": [],
   "source": [
    "wine_data_2 = wine_data\n",
    "\n",
    "one_hot_fea = []\n",
    "dim_red_fea_1 = []\n",
    "dim_red_fea_2 = []\n",
    "\n",
    "for col in ['winery', 'wine', 'region', 'type']:\n",
    "    # 首先用one-hot编码\n",
    "    le = OneHotEncoder()\n",
    "    le.fit(wine_data_2[col][:,np.newaxis])\n",
    "    temp_data = le.transform(wine_data_2[col][:,np.newaxis]).toarray()\n",
    "    if col == 'winery':\n",
    "        one_hot_fea = temp_data\n",
    "    else:\n",
    "        one_hot_fea = np.concatenate([one_hot_fea,temp_data],axis = 1)\n",
    "    \n",
    "    # 由于类别数太多，导致one-hot编码得到的特征维数太高，这容易造成过拟合问题，因此在此基础上使用PCA降维\n",
    "    ndim = np.min([30,temp_data.shape[1]-1])\n",
    "    svd = TruncatedSVD(n_components=ndim)\n",
    "    svd.fit(temp_data)\n",
    "    temp_data_2 = pd.DataFrame(svd.transform(temp_data),columns = [col+'_'+str(i) for i in range(ndim)]).reset_index(drop = True)\n",
    "    if col == 'winery':\n",
    "        dim_red_fea_1 = temp_data_2\n",
    "    else:\n",
    "        dim_red_fea_1 = np.concatenate([dim_red_fea_1,temp_data_2],axis = 1)\n",
    "\n",
    "    ndim = np.min([50,temp_data.shape[1]-1])\n",
    "    svd = TruncatedSVD(n_components=ndim)\n",
    "    svd.fit(temp_data)\n",
    "    temp_data_3 = pd.DataFrame(svd.transform(temp_data),columns = [col+'_'+str(i) for i in range(ndim)]).reset_index(drop = True)\n",
    "    if col == 'winery':\n",
    "        dim_red_fea_2 = temp_data_3\n",
    "    else:\n",
    "        dim_red_fea_2 = np.concatenate([dim_red_fea_2,temp_data_3],axis = 1)\n",
    "    \n",
    "    # wine_data_2 = wine_data_2.join(temp_data_2)\n",
    "wine_data_2.drop(['winery', 'wine', 'region', 'type'],axis = 1,inplace = True)"
   ]
  },
  {
   "cell_type": "code",
   "execution_count": 17,
   "metadata": {},
   "outputs": [],
   "source": [
    "X_baseline = wine_data_2[['rating','num_reviews']].values\n",
    "Y = wine_data_2['price'].values\n",
    "\n",
    "# 下面二选一\n",
    "X_aug_median = wine_data_2[['body_meadian','acidity_meadian','year_meadian']].values\n",
    "X_aug_mean = wine_data_2[['body_mean','acidity_mean','year_mean']].values\n",
    "\n",
    "# 下面三选一\n",
    "X_onehot = one_hot_fea\n",
    "X_cat_dim1 = dim_red_fea_1\n",
    "X_cat_dim2 = dim_red_fea_2\n",
    "\n",
    "sio.savemat('./datasets/candidate_data.mat',{'X_baseline':X_baseline,'Y':Y, 'X_aug_median':X_aug_median, 'X_aug_mean':X_aug_mean, 'X_onehot':X_onehot, 'X_cat_dim1':X_cat_dim1, 'X_cat_dim2':X_cat_dim2})"
   ]
  },
  {
   "cell_type": "markdown",
   "metadata": {},
   "source": [
    "### 3. 添加价格标签"
   ]
  },
  {
   "cell_type": "code",
   "execution_count": 18,
   "metadata": {},
   "outputs": [],
   "source": [
    "wine_data_3 = wine_data_2\n",
    "temp_data = np.zeros([wine_data_3.shape[0],1])\n",
    "temp_data[wine_data_3.price>200] = 1\n",
    "temp_data = pd.DataFrame(temp_data,columns = ['price_tag']).reindex()\n",
    "wine_data_3 = wine_data_3.join(temp_data)\n",
    "\n",
    "X = wine_data_3.drop(['price','price_tag'],axis = 1).values\n",
    "Y = wine_data_3['price'].values\n",
    "\n",
    "sio.savemat('./datasets/ori_data.mat',{'X':X,'Y':Y})"
   ]
  },
  {
   "cell_type": "code",
   "execution_count": 20,
   "metadata": {},
   "outputs": [
    {
     "data": {
      "text/plain": [
       "(7493, 1419)"
      ]
     },
     "execution_count": 20,
     "metadata": {},
     "output_type": "execute_result"
    }
   ],
   "source": [
    "data = sio.loadmat('./datasets/ori_data.mat')\n",
    "\n",
    "data['X'].shape"
   ]
  },
  {
   "cell_type": "markdown",
   "metadata": {},
   "source": [
    "### 4. 特征归一化"
   ]
  },
  {
   "cell_type": "code",
   "execution_count": 22,
   "metadata": {},
   "outputs": [],
   "source": [
    "# 读取上一步的结果\n",
    "wine_data_4 = sio.loadmat('./datasets/ori_data.mat')\n",
    "X = wine_data_4['X']\n",
    "Y = wine_data_4['Y']\n",
    "min_max_scaler = MinMaxScaler()\n",
    "X = min_max_scaler.fit_transform(X)\n",
    "sio.savemat('./datasets/data_normalized.mat',{'X':X,'Y':Y})"
   ]
  }
 ],
 "metadata": {
  "kernelspec": {
   "display_name": "Python 3.8.8 ('py38')",
   "language": "python",
   "name": "python3"
  },
  "language_info": {
   "codemirror_mode": {
    "name": "ipython",
    "version": 3
   },
   "file_extension": ".py",
   "mimetype": "text/x-python",
   "name": "python",
   "nbconvert_exporter": "python",
   "pygments_lexer": "ipython3",
   "version": "3.8.8"
  },
  "orig_nbformat": 4,
  "vscode": {
   "interpreter": {
    "hash": "4d6c15edccb966d2bb52e4527dc0611a26206d084fadc4df5e610d719652857f"
   }
  }
 },
 "nbformat": 4,
 "nbformat_minor": 2
}
